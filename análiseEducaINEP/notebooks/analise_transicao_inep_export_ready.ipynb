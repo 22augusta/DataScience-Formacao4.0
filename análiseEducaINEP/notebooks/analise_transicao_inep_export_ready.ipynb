{
 "cells": [
  {
   "cell_type": "markdown",
   "id": "afc7e624",
   "metadata": {},
   "source": [
    "# 📘 Análise Educacional INEP 2020/2021 – Brasil\n",
    "\n",
    "Este notebook traz uma análise exploratória dos dados de **Taxas de Transição Escolar** com base em dados oficiais do INEP.\n",
    "\n",
    "Incluímos visualizações e insights comentados para facilitar a interpretação dos resultados educacionais no Brasil.\n",
    "\n",
    "---\n"
   ]
  },
  {
   "cell_type": "code",
   "execution_count": null,
   "id": "3c3358a7",
   "metadata": {},
   "outputs": [],
   "source": [
    "import pandas as pd\n",
    "import matplotlib.pyplot as plt\n",
    "import seaborn as sns\n",
    "\n",
    "sns.set(style='whitegrid')\n",
    "plt.rcParams['figure.figsize'] = (12, 6)\n"
   ]
  },
  {
   "cell_type": "code",
   "execution_count": null,
   "id": "1cef59df",
   "metadata": {},
   "outputs": [],
   "source": [
    "df = pd.read_csv(\"transicao_educacional_com_insights.csv\")\n",
    "df.head()\n"
   ]
  },
  {
   "cell_type": "code",
   "execution_count": null,
   "id": "a8c145b4",
   "metadata": {},
   "outputs": [],
   "source": [
    "df.fillna(df.mean(numeric_only=True), inplace=True)\n"
   ]
  },
  {
   "cell_type": "markdown",
   "id": "a52b0a57",
   "metadata": {},
   "source": [
    "## 📌 Indicadores-Chave da Promoção Escolar\n",
    "\n",
    "A seguir, calculamos alguns indicadores principais como taxa média de promoção no Brasil, diferença entre zona urbana e rural, e o desempenho por tipo de rede administrativa.\n"
   ]
  },
  {
   "cell_type": "code",
   "execution_count": null,
   "id": "d12e4304",
   "metadata": {},
   "outputs": [],
   "source": [
    "media_geral = df[\"1_CAT1_CATFUN\"].mean()\n",
    "media_urbana = df[df[\"NO_LOCALIZACAO\"] == \"Urbana\"][\"1_CAT1_CATFUN\"].mean()\n",
    "media_rural = df[df[\"NO_LOCALIZACAO\"] == \"Rural\"][\"1_CAT1_CATFUN\"].mean()\n",
    "diferenca_urbano_rural = round(media_urbana - media_rural, 2)\n",
    "\n",
    "media_dependencia = df.groupby(\"NO_DEPENDENCIA\")[\"1_CAT1_CATFUN\"].mean()\n",
    "maior_dependencia = media_dependencia.idxmax()\n",
    "menor_dependencia = media_dependencia.idxmin()\n",
    "maior_valor = media_dependencia.max()\n",
    "menor_valor = media_dependencia.min()\n",
    "\n",
    "kpis = {\n",
    "    \"Taxa Média de Promoção (Brasil)\": round(media_geral, 2),\n",
    "    \"Média Urbana\": round(media_urbana, 2),\n",
    "    \"Média Rural\": round(media_rural, 2),\n",
    "    \"Diferença Urbano - Rural\": diferenca_urbano_rural,\n",
    "    \"Maior Média por Dependência\": f\"{maior_dependencia} ({round(maior_valor,2)}%)\",\n",
    "    \"Menor Média por Dependência\": f\"{menor_dependencia} ({round(menor_valor,2)}%)\"\n",
    "}\n",
    "pd.DataFrame.from_dict(kpis, orient='index', columns=['Valor'])\n"
   ]
  },
  {
   "cell_type": "markdown",
   "id": "e9de9733",
   "metadata": {},
   "source": [
    "🎯 **Interpretação**:\n",
    "\n",
    "- O Brasil apresentou uma taxa média de promoção de **94,3%**.\n",
    "- A **área urbana supera a rural** em mais de 1,5 ponto percentual.\n",
    "- As **escolas federais** são destaque, com quase **100% de promoção**, enquanto outras redes precisam de atenção.\n"
   ]
  },
  {
   "cell_type": "markdown",
   "id": "607bbcfb",
   "metadata": {},
   "source": [
    "## 📊 Comparativo por Dependência Administrativa\n",
    "\n",
    "Abaixo, visualizamos a média das taxas de promoção por rede administrativa, segmentadas por nível de ensino.\n"
   ]
  },
  {
   "cell_type": "code",
   "execution_count": null,
   "id": "8d556aab",
   "metadata": {},
   "outputs": [],
   "source": [
    "df_bar = df.groupby(\"NO_DEPENDENCIA\")[[\"1_CAT1_CATFUN_AI\", \"1_CAT1_CATFUN_AF\", \"1_CAT1_CATMED\"]].mean()\n",
    "df_bar.plot(kind='bar', stacked=True)\n",
    "plt.title(\"Taxas de Promoção por Dependência Administrativa e Nível de Ensino\")\n",
    "plt.ylabel(\"Taxa (%)\")\n",
    "plt.xlabel(\"Dependência Administrativa\")\n",
    "plt.xticks(rotation=45)\n",
    "plt.tight_layout()\n",
    "plt.show()\n"
   ]
  },
  {
   "cell_type": "markdown",
   "id": "981cb6fb",
   "metadata": {},
   "source": [
    "📌 **Análise**:  \n",
    "A maior consistência nas taxas ocorre na rede **Federal**. Já as redes **Municipal e Estadual** têm mais variações entre os anos iniciais e finais do Ensino Fundamental.\n"
   ]
  },
  {
   "cell_type": "markdown",
   "id": "a42e321b",
   "metadata": {},
   "source": [
    "## 📈 Linha do Tempo – Promoção Escolar por Localização\n",
    "\n",
    "Analisamos a evolução da taxa de promoção entre zona **urbana** e **rural** no período 2020/2021.\n"
   ]
  },
  {
   "cell_type": "code",
   "execution_count": null,
   "id": "a53cbbfd",
   "metadata": {},
   "outputs": [],
   "source": [
    "df_linha_tempo = df[df[\"NO_DEPENDENCIA\"] == \"Total\"]\n",
    "df_tempo = df_linha_tempo.groupby([\"NU_ANO_CENSO\", \"NO_LOCALIZACAO\"])[\"1_CAT1_CATFUN\"].mean().reset_index()\n",
    "\n",
    "import seaborn as sns\n",
    "sns.lineplot(data=df_tempo, x=\"NU_ANO_CENSO\", y=\"1_CAT1_CATFUN\", hue=\"NO_LOCALIZACAO\", marker=\"o\")\n",
    "plt.title(\"Evolução da Taxa de Promoção por Localização (2020/2021)\")\n",
    "plt.xlabel(\"Ano\")\n",
    "plt.ylabel(\"Taxa de Promoção (%)\")\n",
    "plt.grid(True)\n",
    "plt.tight_layout()\n",
    "plt.show()\n"
   ]
  },
  {
   "cell_type": "markdown",
   "id": "41d915b2",
   "metadata": {},
   "source": [
    "🔍 **Conclusão**:  \n",
    "Mesmo com dados apenas do ciclo 2020/2021, nota-se que as áreas **urbanas** apresentam melhor desempenho educacional em termos de promoção escolar do que as **rurais**.\n"
   ]
  },
  {
   "cell_type": "markdown",
   "id": "6af52f30",
   "metadata": {},
   "source": [
    "## 📋 Tabela Detalhada com Filtros\n",
    "\n",
    "A tabela a seguir consolida os principais indicadores por **Ano**, **Estado/Região**, **Localização** e **Tipo de Dependência**.\n"
   ]
  },
  {
   "cell_type": "code",
   "execution_count": null,
   "id": "d9d0ec7d",
   "metadata": {},
   "outputs": [],
   "source": [
    "df_tabela = df[[\n",
    "    \"NU_ANO_CENSO\", \"CODIGO\", \"NO_LOCALIZACAO\", \"NO_DEPENDENCIA\",\n",
    "    \"1_CAT1_CATFUN\", \"1_CAT1_CATFUN_AI\", \"1_CAT1_CATFUN_AF\",\n",
    "    \"1_CAT1_CATMED\"\n",
    "]].copy()\n",
    "\n",
    "df_tabela.columns = [\n",
    "    \"Ano\", \"UF ou Região\", \"Localização\", \"Dependência\",\n",
    "    \"Taxa Promoção Total\", \"Fundamental Iniciais\",\n",
    "    \"Fundamental Finais\", \"Ensino Médio\"\n",
    "]\n",
    "\n",
    "df_tabela.head()\n"
   ]
  },
  {
   "cell_type": "markdown",
   "id": "cf75e67c",
   "metadata": {},
   "source": [
    "## 🏫 Diferença por Tipo de Escola\n",
    "\n",
    "As taxas de promoção variam conforme o tipo de dependência administrativa (escolas federais, estaduais, municipais e privadas).\n"
   ]
  },
  {
   "cell_type": "code",
   "execution_count": null,
   "id": "576c1daf",
   "metadata": {},
   "outputs": [],
   "source": [
    "grupo_dependencia = df.groupby(\"NO_DEPENDENCIA\")[[\"1_CAT1_CATFUN_AI\", \"1_CAT1_CATFUN_AF\", \"1_CAT1_CATMED\"]].mean()\n",
    "grupo_dependencia\n"
   ]
  },
  {
   "cell_type": "markdown",
   "id": "8b217e61",
   "metadata": {},
   "source": [
    "🎯 **Análise**:\n",
    "- **Federais** apresentam o melhor desempenho em todos os níveis.\n",
    "- **Estaduais** têm boa performance nos anos iniciais, mas queda no Ensino Médio.\n",
    "- **Privadas** lideram no Fundamental, mas não mantêm o desempenho no Médio.\n"
   ]
  },
  {
   "cell_type": "markdown",
   "id": "ccda01a7",
   "metadata": {},
   "source": [
    "## 🥇 Ranking por Estado – Promoção Total\n",
    "\n",
    "Avaliação dos estados com melhor e pior desempenho nas taxas totais de promoção escolar.\n"
   ]
  },
  {
   "cell_type": "code",
   "execution_count": null,
   "id": "1156b5ee",
   "metadata": {},
   "outputs": [],
   "source": [
    "ufs = [\n",
    "    'Acre','Alagoas','Amapá','Amazonas','Bahia','Ceará','Distrito Federal','Espírito Santo',\n",
    "    'Goiás','Maranhão','Mato Grosso','Mato Grosso do Sul','Minas Gerais','Paraná','Paraíba',\n",
    "    'Pará','Pernambuco','Piauí','Rio Grande do Norte','Rio Grande do Sul','Rio de Janeiro',\n",
    "    'Rondônia','Roraima','Santa Catarina','Sergipe','São Paulo','Tocantins'\n",
    "]\n",
    "df_ufs = df[(df[\"CODIGO\"].isin(ufs)) & (df[\"NO_LOCALIZACAO\"] == \"Total\") & (df[\"NO_DEPENDENCIA\"] == \"Total\")]\n",
    "df_ufs[[\"CODIGO\", \"1_CAT1_CATFUN\", \"1_CAT1_CATFUN_AI\", \"1_CAT1_CATFUN_AF\", \"1_CAT1_CATMED\"]].sort_values(by=\"1_CAT1_CATFUN\", ascending=False)\n"
   ]
  },
  {
   "cell_type": "markdown",
   "id": "120f463d",
   "metadata": {},
   "source": [
    "📌 **Top 3**: Distrito Federal, Santa Catarina, Paraná.  \n",
    "⚠️ **Piores**: Acre, Maranhão, Amapá.\n"
   ]
  },
  {
   "cell_type": "markdown",
   "id": "917d2769",
   "metadata": {},
   "source": [
    "## 🌍 Desigualdade entre Regiões\n",
    "\n",
    "Comparação das taxas médias por grandes regiões do Brasil.\n"
   ]
  },
  {
   "cell_type": "code",
   "execution_count": null,
   "id": "daefdd43",
   "metadata": {},
   "outputs": [],
   "source": [
    "df_regioes = df[df[\"CODIGO\"].isin([\"Norte\", \"Nordeste\", \"Centro-Oeste\", \"Sudeste\", \"Sul\"])]\n",
    "df_regioes.groupby(\"CODIGO\")[[\"1_CAT1_CATFUN\", \"1_CAT1_CATFUN_AI\", \"1_CAT1_CATFUN_AF\", \"1_CAT1_CATMED\"]].mean()\n"
   ]
  },
  {
   "cell_type": "markdown",
   "id": "191e202f",
   "metadata": {},
   "source": [
    "🔍 **Conclusão**:  \n",
    "- **Sudeste e Sul** dominam os melhores indicadores.  \n",
    "- **Norte e Nordeste** enfrentam maiores desafios, especialmente no Ensino Médio.\n"
   ]
  },
  {
   "cell_type": "markdown",
   "id": "c1fdb42e",
   "metadata": {},
   "source": [
    "## 🚨 Evasão Disfarçada\n",
    "\n",
    "A diferença entre 100% e a taxa de promoção pode indicar evasão ou reprovação.\n"
   ]
  },
  {
   "cell_type": "code",
   "execution_count": null,
   "id": "e30aea39",
   "metadata": {},
   "outputs": [],
   "source": [
    "df_evasao = df[(df[\"NO_LOCALIZACAO\"] == \"Total\") & (df[\"NO_DEPENDENCIA\"] == \"Total\")].copy()\n",
    "df_evasao[\"Evasao (%)\"] = 100 - df_evasao[\"1_CAT1_CATFUN\"]\n",
    "df_evasao[df_evasao[\"CODIGO\"].isin(ufs)][[\"CODIGO\", \"1_CAT1_CATFUN\", \"Evasao (%)\"]].sort_values(by=\"Evasao (%)\", ascending=False)\n"
   ]
  },
  {
   "cell_type": "markdown",
   "id": "24976f6b",
   "metadata": {},
   "source": [
    "⚠️ **Estados com maior evasão estimada**:\n",
    "- Acre: **11,5%**\n",
    "- Maranhão: **9,0%**\n",
    "- Amapá: **8,9%**\n",
    "\n",
    "🧠 Esses dados podem ser usados para orientar políticas públicas de prevenção à evasão escolar.\n"
   ]
  },
  {
   "cell_type": "markdown",
   "id": "7948f05a",
   "metadata": {},
   "source": [
    "## 💾 Exportação de Dados para Power BI\n",
    "\n",
    "O DataFrame tratado pode ser exportado facilmente como um `.csv` ou `.xlsx` para ser usado diretamente no Power BI.\n"
   ]
  },
  {
   "cell_type": "code",
   "execution_count": null,
   "id": "35bd8257",
   "metadata": {},
   "outputs": [],
   "source": [
    "# Exportar como CSV\n",
    "df.to_csv(\"dados_tratados_para_powerbi.csv\", index=False)\n",
    "\n",
    "# Se preferir, exportar como Excel\n",
    "# df.to_excel(\"dados_tratados_para_powerbi.xlsx\", index=False)\n"
   ]
  },
  {
   "cell_type": "markdown",
   "id": "d5858a51",
   "metadata": {},
   "source": [
    "📁 Agora é só abrir o Power BI Desktop, clicar em **\"Obter dados > Texto/CSV\"**, e escolher o arquivo gerado.\n",
    "\n",
    "Se quiser o Excel, basta descomentar a linha correspondente.\n"
   ]
  }
 ],
 "metadata": {},
 "nbformat": 4,
 "nbformat_minor": 5
}
